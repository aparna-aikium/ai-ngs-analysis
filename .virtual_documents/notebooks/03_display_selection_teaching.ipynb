


import math, json, random
from dataclasses import dataclass
from itertools import product
from typing import List, Dict, Tuple, Optional

import numpy as np
import pandas as pd
import matplotlib.pyplot as plt

try:
    from ipywidgets import (
        VBox, HBox, Accordion, Tab, Layout,
        Dropdown, Textarea, Text, IntText, FloatText, BoundedFloatText,
        Checkbox, Button, HTML, Accordion, IntSlider, FloatSlider, Label
    )
    from IPython.display import display, Markdown, clear_output
    _WIDGETS_OK = True
except Exception:
    _WIDGETS_OK = False
    print("ipywidgets not available; you can still run the core functions below.")





IUPAC_DNA = {
    "A":"A","C":"C","G":"G","T":"T",
    "R":"AG","Y":"CT","S":"GC","W":"AT","K":"GT","M":"AC",
    "B":"CGT","D":"AGT","H":"ACT","V":"ACG","N":"ACGT"
}
DNA4 = list("ACGT")
AA20 = list("ARNDCEQGHILKMFPSTWYV")

def _strip_fasta(seq_text: str) -> str:
    """
    Accepts plain sequence or FASTA text; returns uppercase sequence without headers/spaces.
    """
    lines = [ln.strip() for ln in seq_text.strip().splitlines() if ln.strip()]
    if not lines:
        return ""
    if lines[0].startswith(">"):
        # skip headers
        lines = [ln for ln in lines if not ln.startswith(">")]
    return "".join(lines).upper()

def parse_deg_string(deg: str) -> List[Tuple[int, str]]:
    """
    Parse a string like: "10:N,25:R,42:AC" into [(10, "N"), (25, "R"), (42, "AC")]
    """
    if not deg.strip():
        return []
    out = []
    parts = [p.strip() for p in deg.split(",") if p.strip()]
    for p in parts:
        if ":" not in p:
            raise ValueError(f"Degeneracy item '{p}' must be of the form pos:chars")
        pos_s, chars = p.split(":", 1)
        pos = int(pos_s.strip())
        out.append((pos, chars.strip().upper()))
    return out

def normalize_degeneracy(seq_type: str, chars: str) -> str:
    chars = chars.upper().replace(" ", "")
    if seq_type.lower() == "dna":
        expanded = []
        for ch in chars:
            if ch in IUPAC_DNA:
                expanded.extend(IUPAC_DNA[ch])
            elif ch in "ACGT":
                expanded.append(ch)
            else:
                raise ValueError(f"Invalid DNA char: {ch}")
        return "".join(sorted(set(expanded)))
    # amino acids
    bad = set(chars) - set(AA20)
    if bad:
        raise ValueError(f"Invalid AA chars: {bad}")
    return "".join(sorted(set(chars)))

def theoretical_max(pos_to_choices: Dict[int, str]) -> int:
    m = 1
    for chs in pos_to_choices.values():
        m *= len(chs)
    return m

def generate_library_from_one(
    backbone_seq: str,
    seq_type: str,
    pos_degeneracy: List[Tuple[int, str]],
    n_sequences: Optional[int] = None,
    seed: int = 0
) -> List[str]:
    """
    Generate sequences from a single backbone.
    If n_sequences is None -> enumerate full combinatorial expansion.
    Else: sample unique sequences up to n_sequences (reproducibly by seed).
    """
    L = len(backbone_seq)
    pos_to_choices = {}
    for pos, chars in pos_degeneracy:
        if not (1 <= pos <= L):
            raise ValueError(f"Position {pos} out of 1..{L}")
        pos_to_choices[pos] = normalize_degeneracy(seq_type, chars)

    tmax = theoretical_max(pos_to_choices)
    rng = random.Random(seed)

    if n_sequences is None:
        # full enumeration
        if not pos_to_choices:
            return [backbone_seq]
        positions = sorted(pos_to_choices.keys())
        choice_lists = [list(pos_to_choices[p]) for p in positions]
        seqs = []
        for combo in product(*choice_lists):
            s = list(backbone_seq)
            for p, ch in zip(positions, combo):
                s[p-1] = ch
            seqs.append("".join(s))
        return seqs

    # sample unique
    n = min(int(n_sequences), tmax if tmax > 0 else int(n_sequences))
    seqs_set = set()
    def mutate():
        s = list(backbone_seq)
        for p, choices in pos_to_choices.items():
            s[p-1] = rng.choice(choices)
        return "".join(s)
    while len(seqs_set) < n:
        seqs_set.add(mutate())
    return list(seqs_set)

def selection_simulate_rounds(
    df_library: pd.DataFrame,
    rounds: int = 3,
    display: str = "yeast",
    mode: str = "competitive",
    target_conc_nM: float = 50.0,
    S: float = 0.7,
    pcr_cycles: int = 10,
    bias_sigma: float = 0.3,
    expr_enabled: bool = True,
    expr_sigma: float = 0.5,
    KD_mu_log10: float = -7.0,
    KD_alpha: float = 1.0,
    KD_sigma: float = 0.3,
    input_molecules: int = 200_000,
    seed: int = 4242
):
    """
    Minimal display-selection simulator (single target for clarity).
    Returns list of per-round DataFrames.
    """
    rng = np.random.default_rng(seed)
    N = len(df_library)
    # start frequencies
    if "start_frequency" not in df_library.columns:
        freq = np.ones(N) / N
    else:
        freq = df_library["start_frequency"].to_numpy()
        freq = freq / freq.sum()

    # expression heterogeneity (yeast-like)
    expr = rng.lognormal(mean=0.0, sigma=expr_sigma, size=N) if expr_enabled else np.ones(N)

    # per-sequence baseline "trait"
    a = rng.normal(0, 1.0, size=N)
    # KD on log10 scale -> numeric KD (relative units)
    log10KD = KD_mu_log10 - KD_alpha * a + rng.normal(0, KD_sigma, size=N)
    KD = 10.0 ** log10KD

    def occupancy(C, KD):
        return C / (C + KD)

    rounds_out = []
    for r in range(1, rounds+1):
        # capture probability ~ S * occupancy * expression
        p_bind = S * occupancy(target_conc_nM, KD) * expr
        eff = p_bind * freq
        if eff.sum() <= 0:
            eff = np.ones_like(eff) / len(eff)
        probs = eff / eff.sum()

        # captured counts (multinomial)
        captured = rng.multinomial(input_molecules, probs)

        # PCR amplification with bias
        G = 2 ** pcr_cycles
        bias = rng.lognormal(mean=0.0, sigma=bias_sigma, size=N)
        lam = captured * G * bias
        amplified = rng.poisson(lam)
        total = max(amplified.sum(), 1)
        freq = amplified / total

        out = df_library.copy()
        out["round"] = r
        out["capture_prob"] = p_bind
        out["captured"] = captured
        out["amplified"] = amplified
        out["frequency"] = freq
        out["KD"] = KD
        rounds_out.append(out)

    return rounds_out

def ngs_from_pool(df_pool: pd.DataFrame, reads_total: int, p_error: float, seed: int = 999):
    """
    Simulate NGS reads from a pool with 'sequence' and 'frequency' columns.
    Returns a DataFrame of reads with error annotations.
    """
    if "frequency" not in df_pool.columns:
        raise ValueError("df_pool must have a 'frequency' column")
    seqs = df_pool["sequence"].astype(str).str.upper().to_numpy()
    probs = df_pool["frequency"].to_numpy()
    probs = probs / probs.sum()
    rng = np.random.default_rng(seed)

    # choose DNA/AA alphabet based on first seq
    is_dna = set(seqs[0]).issubset(set("ACGTN"))
    alpha = list("ACGT") if is_dna else AA20

    # CDF sample
    cdf = np.cumsum(probs)
    def pick_idx(u):
        return np.searchsorted(cdf, u, side="right")

    reads = []
    for i in range(reads_total):
        idx = pick_idx(rng.random())
        src = seqs[idx]
        obs_chars, errs = [], 0
        for ch in src:
            if rng.random() < p_error:
                # flip to a different character in alphabet
                choices = [a for a in alpha if a != ch]
                obs_chars.append(choices[int(rng.integers(0, len(choices)))])
                errs += 1
            else:
                obs_chars.append(ch)
        reads.append({"read_id": f"read_{i:07d}", "source_seq": src, "observed_seq": "".join(obs_chars), "num_errors": errs})
    return pd.DataFrame(reads)





LIB_DF = None
ROUNDS = None
READS_DF = None


if _WIDGETS_OK:
    # --- Library widgets ---
    dd_mode = Dropdown(options=[("Single reference","single"), ("Multiple references","multi")], value="single", description="Mode:", layout=Layout(width="300px"))
    ta_seqA = Textarea(
        value=">A\nATGCGTACGTGCTAGCTAGCTGATCGATGCTAGCTAGGCTAGCTAGCTAGGATCCGATCGTAGCTAGCTAGCTAGCTA",
        description="Backbone A:",
        layout=Layout(width="600px", height="80px")
    )
    txt_degA = Text(value="10:N,25:R,42:AC", description="Deg A:", layout=Layout(width="400px"))
    int_nA = IntText(value=500, description="N A:", layout=Layout(width="200px"))
    float_wA = FloatText(value=1.0, description="Weight A:", layout=Layout(width="200px"))

    ta_seqB = Textarea(
        value=">B\nATGCGTACGATCGTAGCTAGCTAGGCTAGCTAGGATCCGATCGTAGCTAGCTAGCTAGCTAGCGTACGTAGCTAGCTA",
        description="Backbone B:",
        layout=Layout(width="600px", height="80px")
    )
    txt_degB = Text(value="8:AC,40:N", description="Deg B:", layout=Layout(width="400px"))
    int_nB = IntText(value=500, description="N B:", layout=Layout(width="200px"))
    float_wB = FloatText(value=0.5, description="Weight B:", layout=Layout(width="200px"))

    cb_full = Checkbox(value=False, description="Full combinatorial (ignore N)")
    int_seed_lib = IntText(value=12345, description="Seed (lib):", layout=Layout(width="220px"))
    btn_gen = Button(description="Generate Library", button_style="success", layout=Layout(width="200px"))

    out_gen = HTML("")
    
    # --- Selection widgets ---
    cb_enable_sel = Checkbox(value=True, description="Enable selection")
    int_rounds = IntSlider(value=3, min=1, max=6, step=1, description="Rounds")
    dd_display = Dropdown(options=["yeast","mrna","yotta"], value="yeast", description="Display")
    float_S = BoundedFloatText(value=0.7, min=0.0, max=1.0, step=0.05, description="Stringency S")
    int_cycles = IntSlider(value=10, min=0, max=20, step=1, description="PCR cycles")
    float_bias = BoundedFloatText(value=0.3, min=0.0, max=2.0, step=0.05, description="PCR bias σ")
    cb_expr = Checkbox(value=True, description="Expression heterogeneity (yeast)")
    float_expr = BoundedFloatText(value=0.5, min=0.0, max=2.0, step=0.05, description="Expr σ")
    float_C = BoundedFloatText(value=50.0, min=0.01, max=1e6, step=1.0, description="Target C (nM)")
    float_muKD = FloatText(value=-7.0, description="μ(log10 KD)")
    float_alphaKD = FloatText(value=1.0, description="α (affinity spread)")
    float_sigmaKD = FloatText(value=0.3, description="σ KD")
    int_input = IntText(value=200000, description="Molecules/round")
    int_seed_sel = IntText(value=4242, description="Seed (select)")
    btn_sel = Button(description="Run Selection", button_style="info")

    out_sel = HTML("")

    # --- NGS widgets ---
    cb_enable_ngs = Checkbox(value=True, description="Enable NGS")
    dd_ngs_source = Dropdown(options=[("From selection round","selection"), ("From true library (uniform)","library")], value="selection", description="NGS source")
    int_ngs_round = IntSlider(value=3, min=1, max=6, step=1, description="Use round")
    int_reads = IntText(value=10000, description="Reads total")
    float_perr = BoundedFloatText(value=0.001, min=0.0, max=0.2, step=0.0005, description="Per-base error p")
    int_seed_ngs = IntText(value=999, description="Seed (NGS)")
    btn_ngs = Button(description="Simulate NGS", button_style="warning")

    out_ngs = HTML("")

    # --- Viz widgets (abundance skew) ---
    dd_abund = Dropdown(options=[("Uniform","uniform"), ("Log-normal (σ=1.0)","ln1"), ("Log-normal (σ=0.5)","ln0.5")], value="uniform", description="Abundance model")
    btn_abund = Button(description="Show abundance effect", button_style="")
    out_abund = HTML("")

    # Data holders
    LIB_DF = None
    ROUNDS = None
    READS_DF = None

    # Layouts
    lib_box = VBox([
        HBox([dd_mode]),
        HBox([ta_seqA]),
        HBox([txt_degA, int_nA, float_wA]),
        HBox([ta_seqB]),
        HBox([txt_degB, int_nB, float_wB]),
        HBox([cb_full, int_seed_lib, btn_gen]),
        out_gen
    ])

    sel_box = VBox([
        HBox([cb_enable_sel, dd_display, int_rounds, float_S, int_cycles, float_bias]),
        HBox([cb_expr, float_expr, float_C, float_muKD, float_alphaKD, float_sigmaKD]),
        HBox([int_input, int_seed_sel, btn_sel]),
        out_sel
    ])

    ngs_box = VBox([
        HBox([cb_enable_ngs, dd_ngs_source, int_ngs_round]),
        HBox([int_reads, float_perr, int_seed_ngs, btn_ngs]),
        out_ngs
    ])

    viz_box = VBox([
        HBox([dd_abund, btn_abund]),
        out_abund
    ])

    display(Markdown("### 1) Library generation"))
    display(lib_box)
    display(Markdown("### 2) Selection (display)"))
    display(sel_box)
    display(Markdown("### 3) NGS simulation"))
    display(ngs_box)
    display(Markdown("### 4) Visualization: abundance skew (uniform vs. log-normal)"))
    display(viz_box)

    # --- Callbacks ---
    def on_generate(_):
        global LIB_DF, ROUNDS
        ROUNDS = None
        try:
            mode = dd_mode.value
            seqA = _strip_fasta(ta_seqA.value)
            degA = parse_deg_string(txt_degA.value)
            nA = None if cb_full.value else int_nA.value
            wA = float_wA.value

            records = []
            # generate A
            seqsA = generate_library_from_one(seqA, "dna", degA, n_sequences=nA, seed=int_seed_lib.value)
            for i, s in enumerate(seqsA):
                records.append({"seq_id": f"A_{i:05d}", "sequence": s, "backbone_id":"A", "start_weight": wA})

            if mode == "multi":
                seqB = _strip_fasta(ta_seqB.value)
                degB = parse_deg_string(txt_degB.value)
                nB = None if cb_full.value else int_nB.value
                wB = float_wB.value
                seqsB = generate_library_from_one(seqB, "dna", degB, n_sequences=nB, seed=int_seed_lib.value + 101)
                for i, s in enumerate(seqsB):
                    records.append({"seq_id": f"B_{i:05d}", "sequence": s, "backbone_id":"B", "start_weight": wB})

            df = pd.DataFrame(records)
            df["start_frequency"] = df["start_weight"] / df["start_weight"].sum()
            LIB_DF = df

            out_gen.value = f"<pre>✅ Generated library with {len(df)} sequences.\nPreview:\n{df.head().to_string(index=False)}</pre>"

            # quick plot: sequence length distribution
            plt.figure(figsize=(6,3))
            lengths = df["sequence"].str.len()
            plt.hist(lengths, bins=10)
            plt.title("Sequence length distribution")
            plt.xlabel("Length (nt)"); plt.ylabel("Count")
            plt.show()

        except Exception as e:
            out_gen.value = f"<pre style='color:red'>Error: {e}</pre>"

    def on_selection(_):
        global ROUNDS
        if not cb_enable_sel.value:
            out_sel.value = "<pre>Selection disabled — skipping.</pre>"
            ROUNDS = None
            return
        if LIB_DF is None or LIB_DF.empty:
            out_sel.value = "<pre style='color:red'>Generate the library first.</pre>"
            return
        try:
            rounds = int_rounds.value
            display_kind = dd_display.value
            S = float_S.value
            cycles = int_cycles.value
            bias_sig = float_bias.value
            expr = cb_expr.value
            expr_sig = float_expr.value
            C = float_C.value
            muKD, aKD, sKD = float_muKD.value, float_alphaKD.value, float_sigmaKD.value
            mols = int_input.value
            seed = int_seed_sel.value

            ROUNDS = selection_simulate_rounds(
                LIB_DF, rounds=rounds, display=display_kind, S=S,
                pcr_cycles=cycles, bias_sigma=bias_sig,
                expr_enabled=expr, expr_sigma=expr_sig,
                target_conc_nM=C, KD_mu_log10=muKD, KD_alpha=aKD, KD_sigma=sKD,
                input_molecules=mols, seed=seed
            )

            final = ROUNDS[-1]
            out_sel.value = f"<pre>✅ Ran {rounds} round(s). Final pool size: {len(final)} sequences.\nTop 5 by frequency:\n{final.sort_values('frequency', ascending=False).head().to_string(index=False)}</pre>"

            # Plot: diversity vs round and top-K trajectories
            # Diversity (Shannon)
            sh = []
            for rdf in ROUNDS:
                f = rdf["frequency"].to_numpy()
                f = f / f.sum()
                sh.append(-(f * np.where(f>0, np.log(f), 0)).sum())
            plt.figure(figsize=(6,3))
            plt.plot(range(1, len(ROUNDS)+1), sh, marker="o")
            plt.title("Diversity (Shannon) across rounds"); plt.xlabel("Round"); plt.ylabel("Shannon H")
            plt.show()

            # Top 10 trajectories
            plt.figure(figsize=(7,4))
            # pick top 10 from final
            top_ids = final.sort_values("frequency", ascending=False).head(10)["seq_id"].tolist()
            for rid in top_ids:
                ys = []
                for rdf in ROUNDS:
                    row = rdf.loc[rdf["seq_id"] == rid]
                    ys.append(row["frequency"].values[0] if not row.empty else 0.0)
                plt.plot(range(1, len(ROUNDS)+1), ys, marker="o")
            plt.title("Top-10 frequency trajectories"); plt.xlabel("Round"); plt.ylabel("Frequency")
            plt.show()

        except Exception as e:
            out_sel.value = f"<pre style='color:red'>Error: {e}</pre>"

    def on_ngs(_):
        global READS_DF
        if not cb_enable_ngs.value:
            out_ngs.value = "<pre>NGS disabled — skipping.</pre>"
            READS_DF = None
            return
        if LIB_DF is None or LIB_DF.empty:
            out_ngs.value = "<pre style='color:red'>Generate the library first.</pre>"
            return
        try:
            src = dd_ngs_source.value
            reads_total = int_reads.value
            p_err = float_perr.value
            seed = int_seed_ngs.value

            if src == "selection":
                if not ROUNDS:
                    out_ngs.value = "<pre style='color:red'>Run selection first (or set NGS source to library).</pre>"
                    return
                idx = int_ngs_round.value - 1
                idx = max(0, min(idx, len(ROUNDS)-1))
                pool = ROUNDS[idx][["seq_id","sequence","frequency"]].copy()
                READS_DF = ngs_from_pool(pool, reads_total, p_err, seed=seed)
                src_label = f"selection round {idx+1}"
            else:
                # from true library with uniform frequencies
                pool = LIB_DF.copy()
                pool["frequency"] = 1.0 / len(pool)
                READS_DF = ngs_from_pool(pool[["sequence","frequency"]], reads_total, p_err, seed=seed)
                src_label = "true library (uniform)"

            out_ngs.value = f"<pre>✅ Simulated {len(READS_DF)} reads from {src_label}.\nPreview:\n{READS_DF.head().to_string(index=False)}</pre>"

            # Plot: error count distribution
            plt.figure(figsize=(6,3))
            plt.hist(READS_DF["num_errors"], bins=20)
            plt.title("NGS per-read error count distribution")
            plt.xlabel("# errors per read"); plt.ylabel("Reads")
            plt.show()

        except Exception as e:
            out_ngs.value = f"<pre style='color:red'>Error: {e}</pre>"

    def on_abund(_):
        # Show difference between uniform vs log-normal abundance skew
        try:
            model = dd_abund.value
            n = 5000
            rng = np.random.default_rng(123)
            if model == "uniform":
                weights = np.ones(n)
            elif model == "ln1":
                weights = rng.lognormal(mean=0.0, sigma=1.0, size=n)
            else:
                weights = rng.lognormal(mean=0.0, sigma=0.5, size=n)
            weights = weights / weights.sum()
            plt.figure(figsize=(6,3))
            plt.hist(weights, bins=50)
            plt.title(f"Abundance weights: {model}")
            plt.xlabel("Weight"); plt.ylabel("Count")
            plt.show()

            # cumulative coverage of top-k
            w_sorted = np.sort(weights)[::-1]
            topk = np.arange(1, 51)
            cum = np.cumsum(w_sorted[:50])
            plt.figure(figsize=(6,3))
            plt.plot(topk, cum, marker="o")
            plt.title("Cumulative weight of top-K sequences")
            plt.xlabel("Top-K"); plt.ylabel("Cumulative fraction")
            plt.show()

            out_abund.value = "<pre>Tip: Log-normal skew concentrates mass into a few high-abundance variants, unlike uniform.</pre>"
        except Exception as e:
            out_abund.value = f"<pre style='color:red'>Error: {e}</pre>"

    btn_gen.on_click(on_generate)
    btn_sel.on_click(on_selection)
    btn_ngs.on_click(on_ngs)
    btn_abund.on_click(on_abund)

else:
    print("Widgets are unavailable. You can still call the functions directly, e.g.:")
    print("  seqs = generate_library_from_one('ATGC...', 'dna', [(10,'N')], n_sequences=100, seed=1)")
    print("  rounds = selection_simulate_rounds(df_library, rounds=3, ...)")
    print("  reads = ngs_from_pool(pool_df, reads_total=10000, p_error=0.001)")


import sys, ipywidgets as w
print(sys.executable)
print("ipywidgets:", w.__version__)
w.IntSlider(description="Test slider")



